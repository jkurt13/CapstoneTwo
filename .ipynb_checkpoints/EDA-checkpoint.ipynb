{
 "cells": [
  {
   "cell_type": "code",
   "execution_count": 1,
   "metadata": {},
   "outputs": [],
   "source": [
    "import pandas as pd\n",
    "import numpy as np\n",
    "import matplotlib.pyplot as plt\n",
    "import seaborn as sns\n",
    "#from scipy.stats import t\n",
    "from scipy.stats import norm\n",
    "import scipy.stats as st"
   ]
  },
  {
   "cell_type": "code",
   "execution_count": 2,
   "metadata": {},
   "outputs": [],
   "source": [
    "draft_df = pd.read_csv('career_df_2006.csv')"
   ]
  },
  {
   "cell_type": "code",
   "execution_count": 3,
   "metadata": {},
   "outputs": [
    {
     "data": {
      "text/plain": [
       "Index(['Year', 'Name', 'College_x', 'POS', 'Height (in)', 'Weight (lbs)',\n",
       "       '40 Yard', 'Bench Press', 'Vert Leap (in)', 'Broad Jump (in)',\n",
       "       'Shuttle', '3Cone', 'Win-Loss Record', 'Round', 'Pick', 'Team', 'Pos',\n",
       "       'Age', 'To', 'AP1', 'PB', 'St', 'CarAV', 'DrAV', 'Solo', 'Int', 'Sacks',\n",
       "       'Drafted'],\n",
       "      dtype='object')"
      ]
     },
     "execution_count": 3,
     "metadata": {},
     "output_type": "execute_result"
    }
   ],
   "source": [
    "draft_df.columns"
   ]
  },
  {
   "cell_type": "code",
   "execution_count": 19,
   "metadata": {},
   "outputs": [],
   "source": [
    "draft_df['Drafted'] = np.where(draft_df['Drafted'] == 1, 'D', 'U')"
   ]
  },
  {
   "cell_type": "code",
   "execution_count": 20,
   "metadata": {},
   "outputs": [
    {
     "data": {
      "text/html": [
       "<div>\n",
       "<style scoped>\n",
       "    .dataframe tbody tr th:only-of-type {\n",
       "        vertical-align: middle;\n",
       "    }\n",
       "\n",
       "    .dataframe tbody tr th {\n",
       "        vertical-align: top;\n",
       "    }\n",
       "\n",
       "    .dataframe thead th {\n",
       "        text-align: right;\n",
       "    }\n",
       "</style>\n",
       "<table border=\"1\" class=\"dataframe\">\n",
       "  <thead>\n",
       "    <tr style=\"text-align: right;\">\n",
       "      <th></th>\n",
       "      <th>Year</th>\n",
       "      <th>Name</th>\n",
       "      <th>College_x</th>\n",
       "      <th>POS</th>\n",
       "      <th>Height (in)</th>\n",
       "      <th>Weight (lbs)</th>\n",
       "      <th>40 Yard</th>\n",
       "      <th>Bench Press</th>\n",
       "      <th>Vert Leap (in)</th>\n",
       "      <th>Broad Jump (in)</th>\n",
       "      <th>...</th>\n",
       "      <th>To</th>\n",
       "      <th>AP1</th>\n",
       "      <th>PB</th>\n",
       "      <th>St</th>\n",
       "      <th>CarAV</th>\n",
       "      <th>DrAV</th>\n",
       "      <th>Solo</th>\n",
       "      <th>Int</th>\n",
       "      <th>Sacks</th>\n",
       "      <th>Drafted</th>\n",
       "    </tr>\n",
       "  </thead>\n",
       "  <tbody>\n",
       "    <tr>\n",
       "      <th>0</th>\n",
       "      <td>2006.0</td>\n",
       "      <td>Darrell Adams</td>\n",
       "      <td>Villanova</td>\n",
       "      <td>DE</td>\n",
       "      <td>76.63</td>\n",
       "      <td>277.0</td>\n",
       "      <td>5.08</td>\n",
       "      <td>22.0</td>\n",
       "      <td>27.0</td>\n",
       "      <td>109.0</td>\n",
       "      <td>...</td>\n",
       "      <td>NaN</td>\n",
       "      <td>NaN</td>\n",
       "      <td>NaN</td>\n",
       "      <td>NaN</td>\n",
       "      <td>NaN</td>\n",
       "      <td>NaN</td>\n",
       "      <td>NaN</td>\n",
       "      <td>NaN</td>\n",
       "      <td>NaN</td>\n",
       "      <td>U</td>\n",
       "    </tr>\n",
       "    <tr>\n",
       "      <th>1</th>\n",
       "      <td>2006.0</td>\n",
       "      <td>Titus Adams</td>\n",
       "      <td>Nebraska</td>\n",
       "      <td>DT</td>\n",
       "      <td>75.38</td>\n",
       "      <td>306.0</td>\n",
       "      <td>5.12</td>\n",
       "      <td>15.0</td>\n",
       "      <td>30.5</td>\n",
       "      <td>103.0</td>\n",
       "      <td>...</td>\n",
       "      <td>2009.0</td>\n",
       "      <td>0.0</td>\n",
       "      <td>0.0</td>\n",
       "      <td>0.0</td>\n",
       "      <td>0.0</td>\n",
       "      <td>NaN</td>\n",
       "      <td>1.0</td>\n",
       "      <td>NaN</td>\n",
       "      <td>NaN</td>\n",
       "      <td>D</td>\n",
       "    </tr>\n",
       "    <tr>\n",
       "      <th>2</th>\n",
       "      <td>2006.0</td>\n",
       "      <td>Jahmile Addae</td>\n",
       "      <td>West Virginia</td>\n",
       "      <td>FS</td>\n",
       "      <td>70.25</td>\n",
       "      <td>214.0</td>\n",
       "      <td>4.74</td>\n",
       "      <td>NaN</td>\n",
       "      <td>38.5</td>\n",
       "      <td>122.0</td>\n",
       "      <td>...</td>\n",
       "      <td>NaN</td>\n",
       "      <td>NaN</td>\n",
       "      <td>NaN</td>\n",
       "      <td>NaN</td>\n",
       "      <td>NaN</td>\n",
       "      <td>NaN</td>\n",
       "      <td>NaN</td>\n",
       "      <td>NaN</td>\n",
       "      <td>NaN</td>\n",
       "      <td>U</td>\n",
       "    </tr>\n",
       "    <tr>\n",
       "      <th>3</th>\n",
       "      <td>2006.0</td>\n",
       "      <td>Victor Adeyanju</td>\n",
       "      <td>Indiana</td>\n",
       "      <td>DE</td>\n",
       "      <td>76.25</td>\n",
       "      <td>274.0</td>\n",
       "      <td>4.88</td>\n",
       "      <td>22.0</td>\n",
       "      <td>32.0</td>\n",
       "      <td>112.0</td>\n",
       "      <td>...</td>\n",
       "      <td>2009.0</td>\n",
       "      <td>0.0</td>\n",
       "      <td>0.0</td>\n",
       "      <td>2.0</td>\n",
       "      <td>13.0</td>\n",
       "      <td>13.0</td>\n",
       "      <td>109.0</td>\n",
       "      <td>NaN</td>\n",
       "      <td>3.0</td>\n",
       "      <td>D</td>\n",
       "    </tr>\n",
       "    <tr>\n",
       "      <th>4</th>\n",
       "      <td>2006.0</td>\n",
       "      <td>Jason Allen</td>\n",
       "      <td>Tennessee</td>\n",
       "      <td>FS</td>\n",
       "      <td>72.88</td>\n",
       "      <td>209.0</td>\n",
       "      <td>4.41</td>\n",
       "      <td>17.0</td>\n",
       "      <td>39.5</td>\n",
       "      <td>131.0</td>\n",
       "      <td>...</td>\n",
       "      <td>NaN</td>\n",
       "      <td>NaN</td>\n",
       "      <td>NaN</td>\n",
       "      <td>NaN</td>\n",
       "      <td>NaN</td>\n",
       "      <td>NaN</td>\n",
       "      <td>NaN</td>\n",
       "      <td>NaN</td>\n",
       "      <td>NaN</td>\n",
       "      <td>U</td>\n",
       "    </tr>\n",
       "  </tbody>\n",
       "</table>\n",
       "<p>5 rows × 28 columns</p>\n",
       "</div>"
      ],
      "text/plain": [
       "     Year             Name      College_x POS  Height (in)  Weight (lbs)  \\\n",
       "0  2006.0    Darrell Adams      Villanova  DE        76.63         277.0   \n",
       "1  2006.0      Titus Adams       Nebraska  DT        75.38         306.0   \n",
       "2  2006.0    Jahmile Addae  West Virginia  FS        70.25         214.0   \n",
       "3  2006.0  Victor Adeyanju        Indiana  DE        76.25         274.0   \n",
       "4  2006.0      Jason Allen      Tennessee  FS        72.88         209.0   \n",
       "\n",
       "   40 Yard  Bench Press  Vert Leap (in)  Broad Jump (in)  ...      To  AP1  \\\n",
       "0     5.08         22.0            27.0            109.0  ...     NaN  NaN   \n",
       "1     5.12         15.0            30.5            103.0  ...  2009.0  0.0   \n",
       "2     4.74          NaN            38.5            122.0  ...     NaN  NaN   \n",
       "3     4.88         22.0            32.0            112.0  ...  2009.0  0.0   \n",
       "4     4.41         17.0            39.5            131.0  ...     NaN  NaN   \n",
       "\n",
       "    PB   St  CarAV  DrAV   Solo  Int  Sacks  Drafted  \n",
       "0  NaN  NaN    NaN   NaN    NaN  NaN    NaN        U  \n",
       "1  0.0  0.0    0.0   NaN    1.0  NaN    NaN        D  \n",
       "2  NaN  NaN    NaN   NaN    NaN  NaN    NaN        U  \n",
       "3  0.0  2.0   13.0  13.0  109.0  NaN    3.0        D  \n",
       "4  NaN  NaN    NaN   NaN    NaN  NaN    NaN        U  \n",
       "\n",
       "[5 rows x 28 columns]"
      ]
     },
     "execution_count": 20,
     "metadata": {},
     "output_type": "execute_result"
    }
   ],
   "source": [
    "draft_df.head()"
   ]
  },
  {
   "cell_type": "code",
   "execution_count": 4,
   "metadata": {},
   "outputs": [],
   "source": [
    "drafted= draft_df[draft_df['Drafted'] == 1]\n",
    "undrafted = draft_df[draft_df['Drafted'] == 0]"
   ]
  },
  {
   "cell_type": "code",
   "execution_count": 5,
   "metadata": {},
   "outputs": [
    {
     "data": {
      "text/plain": [
       "(21.104, 7.449)"
      ]
     },
     "execution_count": 5,
     "metadata": {},
     "output_type": "execute_result"
    }
   ],
   "source": [
    "bench_mean = round(np.mean(draft_df['Bench Press']), 3)\n",
    "bench_std= round(np.std(draft_df['Bench Press']), 3)\n",
    "bench_mean, bench_std"
   ]
  },
  {
   "cell_type": "code",
   "execution_count": 6,
   "metadata": {},
   "outputs": [
    {
     "name": "stderr",
     "output_type": "stream",
     "text": [
      "C:\\Users\\vtkurt13\\anaconda3\\lib\\site-packages\\numpy\\lib\\histograms.py:839: RuntimeWarning: invalid value encountered in greater_equal\n",
      "  keep = (tmp_a >= first_edge)\n",
      "C:\\Users\\vtkurt13\\anaconda3\\lib\\site-packages\\numpy\\lib\\histograms.py:840: RuntimeWarning: invalid value encountered in less_equal\n",
      "  keep &= (tmp_a <= last_edge)\n"
     ]
    },
    {
     "data": {
      "image/png": "[encoded data removed]",
      "text/plain": [
       "<Figure size 432x288 with 1 Axes>"
      ]
     },
     "metadata": {
      "needs_background": "light"
     },
     "output_type": "display_data"
    }
   ],
   "source": [
    "_ = plt.hist(draft_df['Bench Press'])\n",
    "_ = plt.xlabel('Number of Reps')\n",
    "_ = plt.ylabel('Number of Players')\n",
    "_ = plt.title('Distribution of Bench Press Reps')\n",
    "_ = plt.axvline(bench_mean, color='r')\n",
    "_ = plt.axvline(bench_mean + bench_std, color='r', linestyle='--')\n",
    "_ = plt.axvline(bench_mean - bench_std, color='r', linestyle='--')"
   ]
  },
  {
   "cell_type": "code",
   "execution_count": 7,
   "metadata": {},
   "outputs": [
    {
     "data": {
      "text/plain": [
       "(4.75, 0.242)"
      ]
     },
     "execution_count": 7,
     "metadata": {},
     "output_type": "execute_result"
    }
   ],
   "source": [
    "yard40_mean = round(np.mean(draft_df['40 Yard']), 3)\n",
    "yard40_std = round(np.std(draft_df['40 Yard']), 3)\n",
    "yard40_mean, yard40_std"
   ]
  },
  {
   "cell_type": "code",
   "execution_count": 8,
   "metadata": {},
   "outputs": [
    {
     "data": {
      "image/png": "[encoded data removed]",
      "text/plain": [
       "<Figure size 432x288 with 1 Axes>"
      ]
     },
     "metadata": {
      "needs_background": "light"
     },
     "output_type": "display_data"
    }
   ],
   "source": [
    "_ = plt.hist(draft_df['40 Yard'])\n",
    "_ = plt.xlabel('Number of Seconds')\n",
    "_ = plt.ylabel('Number of Players')\n",
    "_ = plt.title('Distribution of 40 Yard Dash')\n",
    "_ = plt.axvline(yard40_mean, color='r')\n",
    "_ = plt.axvline(yard40_mean + yard40_std, color='r', linestyle='--')\n",
    "_ = plt.axvline(yard40_mean - yard40_std, color='r', linestyle='--')"
   ]
  },
  {
   "cell_type": "code",
   "execution_count": 9,
   "metadata": {},
   "outputs": [
    {
     "data": {
      "text/plain": [
       "(35.754, 3.804)"
      ]
     },
     "execution_count": 9,
     "metadata": {},
     "output_type": "execute_result"
    }
   ],
   "source": [
    "vert_leap_mean = round(np.mean(draft_df['Vert Leap (in)']), 3)\n",
    "vert_leap_std = round(np.std(draft_df['Vert Leap (in)']), 3)\n",
    "vert_leap_mean, vert_leap_std"
   ]
  },
  {
   "cell_type": "code",
   "execution_count": 10,
   "metadata": {},
   "outputs": [
    {
     "data": {
      "image/png": "[encoded data removed]",
      "text/plain": [
       "<Figure size 432x288 with 1 Axes>"
      ]
     },
     "metadata": {
      "needs_background": "light"
     },
     "output_type": "display_data"
    }
   ],
   "source": [
    "_ = plt.hist(draft_df['Vert Leap (in)'])\n",
    "_ = plt.xlabel('Vertical Leap (in)')\n",
    "_ = plt.ylabel('Number of Players')\n",
    "_ = plt.title('Distribution of Vertical Leap (in)')\n",
    "\n",
    "_ = plt.axvline(vert_leap_mean, color='r')\n",
    "_ = plt.axvline(vert_leap_mean + vert_leap_std, color='r', linestyle='--')\n",
    "_ = plt.axvline(vert_leap_mean - vert_leap_std, color='r', linestyle='--')"
   ]
  },
  {
   "cell_type": "code",
   "execution_count": 11,
   "metadata": {},
   "outputs": [
    {
     "data": {
      "text/plain": [
       "(117.403, 7.981)"
      ]
     },
     "execution_count": 11,
     "metadata": {},
     "output_type": "execute_result"
    }
   ],
   "source": [
    "broad_jump_mean = round(np.mean(draft_df['Broad Jump (in)']), 3)\n",
    "broad_jump_std = round(np.std(draft_df['Broad Jump (in)']), 3)\n",
    "broad_jump_mean, broad_jump_std"
   ]
  },
  {
   "cell_type": "code",
   "execution_count": 12,
   "metadata": {},
   "outputs": [
    {
     "data": {
      "image/png": "[encoded data removed]",
      "text/plain": [
       "<Figure size 432x288 with 1 Axes>"
      ]
     },
     "metadata": {
      "needs_background": "light"
     },
     "output_type": "display_data"
    }
   ],
   "source": [
    "_ = plt.hist(draft_df['Broad Jump (in)'])\n",
    "_ = plt.xlabel('Broad Jump (in)')\n",
    "_ = plt.ylabel('Number of Players')\n",
    "_ = plt.title('Distribution of Broad Jumps (in)')\n",
    "_ = plt.axvline(broad_jump_mean, color='r')\n",
    "_ = plt.axvline(broad_jump_mean + broad_jump_std, color='r', linestyle='--')\n",
    "_ = plt.axvline(broad_jump_mean - broad_jump_std, color='r', linestyle='--')"
   ]
  },
  {
   "cell_type": "code",
   "execution_count": 13,
   "metadata": {},
   "outputs": [
    {
     "data": {
      "text/plain": [
       "(4.293, 0.201)"
      ]
     },
     "execution_count": 13,
     "metadata": {},
     "output_type": "execute_result"
    }
   ],
   "source": [
    "shuttle_mean = round(np.mean(draft_df['Shuttle']), 3)\n",
    "shuttle_std = round(np.std(draft_df['Shuttle']), 3)\n",
    "shuttle_mean, shuttle_std"
   ]
  },
  {
   "cell_type": "code",
   "execution_count": 14,
   "metadata": {},
   "outputs": [
    {
     "data": {
      "image/png": "[encoded data removed]",
      "text/plain": [
       "<Figure size 432x288 with 1 Axes>"
      ]
     },
     "metadata": {
      "needs_background": "light"
     },
     "output_type": "display_data"
    }
   ],
   "source": [
    "_ = plt.hist(draft_df['Shuttle'])\n",
    "_ = plt.xlabel('Shuttle Time')\n",
    "_ = plt.ylabel('Number of Players')\n",
    "_ = plt.title('Distribution of Shuttle Time')\n",
    "_ = plt.axvline(shuttle_mean, color='r')\n",
    "_ = plt.axvline(shuttle_mean + shuttle_std, color='r', linestyle='--')\n",
    "_ = plt.axvline(shuttle_mean - shuttle_std, color='r', linestyle='--')"
   ]
  },
  {
   "cell_type": "code",
   "execution_count": 15,
   "metadata": {},
   "outputs": [
    {
     "data": {
      "text/plain": [
       "(7.229, 0.37)"
      ]
     },
     "execution_count": 15,
     "metadata": {},
     "output_type": "execute_result"
    }
   ],
   "source": [
    "cone3_mean = round(np.mean(draft_df['3Cone']), 3)\n",
    "cone3_std = round(np.std(draft_df['3Cone']), 3)\n",
    "cone3_mean, cone3_std"
   ]
  },
  {
   "cell_type": "code",
   "execution_count": 16,
   "metadata": {},
   "outputs": [
    {
     "data": {
      "image/png": "[encoded data removed]",
      "text/plain": [
       "<Figure size 432x288 with 1 Axes>"
      ]
     },
     "metadata": {
      "needs_background": "light"
     },
     "output_type": "display_data"
    }
   ],
   "source": [
    "_ = plt.hist(draft_df['3Cone'])\n",
    "_ = plt.xlabel('Three Cone Time')\n",
    "_ = plt.ylabel('Number of Players')\n",
    "_ = plt.title('Distribution of Three Cone Time')\n",
    "_ = plt.axvline(cone3_mean, color='r')\n",
    "_ = plt.axvline(cone3_mean + cone3_std, color='r', linestyle='--')\n",
    "_ = plt.axvline(cone3_mean - cone3_std, color='r', linestyle='--')"
   ]
  },
  {
   "cell_type": "code",
   "execution_count": 21,
   "metadata": {},
   "outputs": [
    {
     "name": "stderr",
     "output_type": "stream",
     "text": [
      "C:\\Users\\vtkurt13\\anaconda3\\lib\\site-packages\\seaborn\\categorical.py:1282: RuntimeWarning: invalid value encountered in less\n",
      "  off_low = points < low_gutter\n",
      "C:\\Users\\vtkurt13\\anaconda3\\lib\\site-packages\\seaborn\\categorical.py:1286: RuntimeWarning: invalid value encountered in greater\n",
      "  off_high = points > high_gutter\n"
     ]
    },
    {
     "data": {
      "image/png": "[encoded data removed]",
      "text/plain": [
       "<Figure size 432x288 with 1 Axes>"
      ]
     },
     "metadata": {},
     "output_type": "display_data"
    }
   ],
   "source": [
    "sns.set_theme(style=\"whitegrid\", palette=\"muted\")\n",
    "\n",
    "# Draw a categorical scatterplot to show each observation\n",
    "ax = sns.swarmplot(data=draft_df, x=\"Bench Press\", y=\"Drafted\", hue=\"POS\")\n",
    "_ = ax.set(ylabel=\"\")"
   ]
  },
  {
   "cell_type": "code",
   "execution_count": null,
   "metadata": {},
   "outputs": [],
   "source": []
  },
  {
   "cell_type": "code",
   "execution_count": null,
   "metadata": {},
   "outputs": [],
   "source": []
  }
 ],
 "metadata": {
  "kernelspec": {
   "display_name": "Python 3",
   "language": "python",
   "name": "python3"
  },
  "language_info": {
   "codemirror_mode": {
    "name": "ipython",
    "version": 3
   },
   "file_extension": ".py",
   "mimetype": "text/x-python",
   "name": "python",
   "nbconvert_exporter": "python",
   "pygments_lexer": "ipython3",
   "version": "3.8.3"
  }
 },
 "nbformat": 4,
 "nbformat_minor": 4
}
