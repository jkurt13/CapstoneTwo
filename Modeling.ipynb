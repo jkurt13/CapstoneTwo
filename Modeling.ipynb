{
 "cells": [
  {
   "cell_type": "code",
   "execution_count": 1,
   "metadata": {},
   "outputs": [],
   "source": [
    "import os\n",
    "import math \n",
    "import numpy as np\n",
    "import pandas as pd\n",
    "import matplotlib.pyplot as plt\n",
    "import seaborn as snsS"
   ]
  },
  {
   "cell_type": "code",
   "execution_count": 2,
   "metadata": {},
   "outputs": [],
   "source": [
    "draft_df = pd.read_csv('Data/careers_df.csv')"
   ]
  },
  {
   "cell_type": "code",
   "execution_count": 3,
   "metadata": {},
   "outputs": [
    {
     "data": {
      "text/html": [
       "<div>\n",
       "<style scoped>\n",
       "    .dataframe tbody tr th:only-of-type {\n",
       "        vertical-align: middle;\n",
       "    }\n",
       "\n",
       "    .dataframe tbody tr th {\n",
       "        vertical-align: top;\n",
       "    }\n",
       "\n",
       "    .dataframe thead th {\n",
       "        text-align: right;\n",
       "    }\n",
       "</style>\n",
       "<table border=\"1\" class=\"dataframe\">\n",
       "  <thead>\n",
       "    <tr style=\"text-align: right;\">\n",
       "      <th></th>\n",
       "      <th>Year</th>\n",
       "      <th>Name</th>\n",
       "      <th>College</th>\n",
       "      <th>POS</th>\n",
       "      <th>Height (in)</th>\n",
       "      <th>Weight (lbs)</th>\n",
       "      <th>40 Yard</th>\n",
       "      <th>Bench Press</th>\n",
       "      <th>Vert Leap (in)</th>\n",
       "      <th>Broad Jump (in)</th>\n",
       "      <th>...</th>\n",
       "      <th>To</th>\n",
       "      <th>AP1</th>\n",
       "      <th>PB</th>\n",
       "      <th>St</th>\n",
       "      <th>CarAV</th>\n",
       "      <th>DrAV</th>\n",
       "      <th>Solo</th>\n",
       "      <th>Int</th>\n",
       "      <th>Sacks</th>\n",
       "      <th>Drafted</th>\n",
       "    </tr>\n",
       "  </thead>\n",
       "  <tbody>\n",
       "    <tr>\n",
       "      <th>0</th>\n",
       "      <td>2000.0</td>\n",
       "      <td>Rashard Anderson</td>\n",
       "      <td>Jackson State (MS)</td>\n",
       "      <td>CB</td>\n",
       "      <td>74.4</td>\n",
       "      <td>206.0</td>\n",
       "      <td>4.59</td>\n",
       "      <td>NaN</td>\n",
       "      <td>34.0</td>\n",
       "      <td>123.0</td>\n",
       "      <td>...</td>\n",
       "      <td>2001.0</td>\n",
       "      <td>0.0</td>\n",
       "      <td>0.0</td>\n",
       "      <td>1.0</td>\n",
       "      <td>7.0</td>\n",
       "      <td>7.0</td>\n",
       "      <td>68.0</td>\n",
       "      <td>1.0</td>\n",
       "      <td>NaN</td>\n",
       "      <td>D</td>\n",
       "    </tr>\n",
       "    <tr>\n",
       "      <th>1</th>\n",
       "      <td>2000.0</td>\n",
       "      <td>Corey Atkins</td>\n",
       "      <td>South Carolina</td>\n",
       "      <td>OLB</td>\n",
       "      <td>72.4</td>\n",
       "      <td>237.0</td>\n",
       "      <td>4.76</td>\n",
       "      <td>21.0</td>\n",
       "      <td>31.0</td>\n",
       "      <td>112.0</td>\n",
       "      <td>...</td>\n",
       "      <td>NaN</td>\n",
       "      <td>NaN</td>\n",
       "      <td>NaN</td>\n",
       "      <td>NaN</td>\n",
       "      <td>NaN</td>\n",
       "      <td>NaN</td>\n",
       "      <td>NaN</td>\n",
       "      <td>NaN</td>\n",
       "      <td>NaN</td>\n",
       "      <td>U</td>\n",
       "    </tr>\n",
       "    <tr>\n",
       "      <th>2</th>\n",
       "      <td>2000.0</td>\n",
       "      <td>Reggie Austin</td>\n",
       "      <td>Wake Forest</td>\n",
       "      <td>CB</td>\n",
       "      <td>69.4</td>\n",
       "      <td>175.0</td>\n",
       "      <td>4.46</td>\n",
       "      <td>17.0</td>\n",
       "      <td>35.0</td>\n",
       "      <td>119.0</td>\n",
       "      <td>...</td>\n",
       "      <td>2002.0</td>\n",
       "      <td>0.0</td>\n",
       "      <td>0.0</td>\n",
       "      <td>0.0</td>\n",
       "      <td>2.0</td>\n",
       "      <td>2.0</td>\n",
       "      <td>18.0</td>\n",
       "      <td>2.0</td>\n",
       "      <td>NaN</td>\n",
       "      <td>D</td>\n",
       "    </tr>\n",
       "    <tr>\n",
       "      <th>3</th>\n",
       "      <td>2000.0</td>\n",
       "      <td>Rashidi Barnes</td>\n",
       "      <td>Colorado</td>\n",
       "      <td>FS</td>\n",
       "      <td>71.6</td>\n",
       "      <td>208.0</td>\n",
       "      <td>4.63</td>\n",
       "      <td>10.0</td>\n",
       "      <td>35.0</td>\n",
       "      <td>114.0</td>\n",
       "      <td>...</td>\n",
       "      <td>2000.0</td>\n",
       "      <td>0.0</td>\n",
       "      <td>0.0</td>\n",
       "      <td>0.0</td>\n",
       "      <td>1.0</td>\n",
       "      <td>1.0</td>\n",
       "      <td>15.0</td>\n",
       "      <td>NaN</td>\n",
       "      <td>NaN</td>\n",
       "      <td>D</td>\n",
       "    </tr>\n",
       "    <tr>\n",
       "      <th>4</th>\n",
       "      <td>2000.0</td>\n",
       "      <td>David Barrett</td>\n",
       "      <td>Arkansas</td>\n",
       "      <td>CB</td>\n",
       "      <td>69.9</td>\n",
       "      <td>199.0</td>\n",
       "      <td>4.48</td>\n",
       "      <td>16.0</td>\n",
       "      <td>37.5</td>\n",
       "      <td>116.0</td>\n",
       "      <td>...</td>\n",
       "      <td>2008.0</td>\n",
       "      <td>0.0</td>\n",
       "      <td>0.0</td>\n",
       "      <td>6.0</td>\n",
       "      <td>31.0</td>\n",
       "      <td>14.0</td>\n",
       "      <td>391.0</td>\n",
       "      <td>18.0</td>\n",
       "      <td>0.5</td>\n",
       "      <td>D</td>\n",
       "    </tr>\n",
       "  </tbody>\n",
       "</table>\n",
       "<p>5 rows × 27 columns</p>\n",
       "</div>"
      ],
      "text/plain": [
       "     Year              Name             College  POS  Height (in)  \\\n",
       "0  2000.0  Rashard Anderson  Jackson State (MS)   CB         74.4   \n",
       "1  2000.0      Corey Atkins      South Carolina  OLB         72.4   \n",
       "2  2000.0     Reggie Austin         Wake Forest   CB         69.4   \n",
       "3  2000.0    Rashidi Barnes            Colorado   FS         71.6   \n",
       "4  2000.0     David Barrett            Arkansas   CB         69.9   \n",
       "\n",
       "   Weight (lbs)  40 Yard  Bench Press  Vert Leap (in)  Broad Jump (in)  ...  \\\n",
       "0         206.0     4.59          NaN            34.0            123.0  ...   \n",
       "1         237.0     4.76         21.0            31.0            112.0  ...   \n",
       "2         175.0     4.46         17.0            35.0            119.0  ...   \n",
       "3         208.0     4.63         10.0            35.0            114.0  ...   \n",
       "4         199.0     4.48         16.0            37.5            116.0  ...   \n",
       "\n",
       "       To  AP1   PB   St  CarAV  DrAV   Solo   Int  Sacks  Drafted  \n",
       "0  2001.0  0.0  0.0  1.0    7.0   7.0   68.0   1.0    NaN        D  \n",
       "1     NaN  NaN  NaN  NaN    NaN   NaN    NaN   NaN    NaN        U  \n",
       "2  2002.0  0.0  0.0  0.0    2.0   2.0   18.0   2.0    NaN        D  \n",
       "3  2000.0  0.0  0.0  0.0    1.0   1.0   15.0   NaN    NaN        D  \n",
       "4  2008.0  0.0  0.0  6.0   31.0  14.0  391.0  18.0    0.5        D  \n",
       "\n",
       "[5 rows x 27 columns]"
      ]
     },
     "execution_count": 3,
     "metadata": {},
     "output_type": "execute_result"
    }
   ],
   "source": [
    "draft_df.head()"
   ]
  },
  {
   "cell_type": "code",
   "execution_count": 4,
   "metadata": {},
   "outputs": [
    {
     "name": "stdout",
     "output_type": "stream",
     "text": [
      "<class 'pandas.core.frame.DataFrame'>\n",
      "RangeIndex: 1633 entries, 0 to 1632\n",
      "Data columns (total 27 columns):\n",
      " #   Column           Non-Null Count  Dtype  \n",
      "---  ------           --------------  -----  \n",
      " 0   Year             1633 non-null   float64\n",
      " 1   Name             1633 non-null   object \n",
      " 2   College          1632 non-null   object \n",
      " 3   POS              1633 non-null   object \n",
      " 4   Height (in)      1633 non-null   float64\n",
      " 5   Weight (lbs)     1633 non-null   float64\n",
      " 6   40 Yard          1409 non-null   float64\n",
      " 7   Bench Press      1225 non-null   float64\n",
      " 8   Vert Leap (in)   1237 non-null   float64\n",
      " 9   Broad Jump (in)  1235 non-null   float64\n",
      " 10  Shuttle          1038 non-null   float64\n",
      " 11  3Cone            1030 non-null   float64\n",
      " 12  Win-Loss Record  1460 non-null   object \n",
      " 13  Round            1122 non-null   float64\n",
      " 14  Pick             1122 non-null   float64\n",
      " 15  Team             1122 non-null   object \n",
      " 16  Age              1060 non-null   float64\n",
      " 17  To               1050 non-null   float64\n",
      " 18  AP1              1122 non-null   float64\n",
      " 19  PB               1122 non-null   float64\n",
      " 20  St               1122 non-null   float64\n",
      " 21  CarAV            1050 non-null   float64\n",
      " 22  DrAV             975 non-null    float64\n",
      " 23  Solo             1027 non-null   float64\n",
      " 24  Int              540 non-null    float64\n",
      " 25  Sacks            680 non-null    float64\n",
      " 26  Drafted          1633 non-null   object \n",
      "dtypes: float64(21), object(6)\n",
      "memory usage: 344.6+ KB\n"
     ]
    }
   ],
   "source": [
    "draft_df.info()"
   ]
  },
  {
   "cell_type": "code",
   "execution_count": 5,
   "metadata": {},
   "outputs": [
    {
     "data": {
      "text/html": [
       "<div>\n",
       "<style scoped>\n",
       "    .dataframe tbody tr th:only-of-type {\n",
       "        vertical-align: middle;\n",
       "    }\n",
       "\n",
       "    .dataframe tbody tr th {\n",
       "        vertical-align: top;\n",
       "    }\n",
       "\n",
       "    .dataframe thead th {\n",
       "        text-align: right;\n",
       "    }\n",
       "</style>\n",
       "<table border=\"1\" class=\"dataframe\">\n",
       "  <thead>\n",
       "    <tr style=\"text-align: right;\">\n",
       "      <th></th>\n",
       "      <th>Year</th>\n",
       "      <th>Height (in)</th>\n",
       "      <th>Weight (lbs)</th>\n",
       "      <th>40 Yard</th>\n",
       "      <th>Bench Press</th>\n",
       "      <th>Vert Leap (in)</th>\n",
       "      <th>Broad Jump (in)</th>\n",
       "      <th>Shuttle</th>\n",
       "      <th>3Cone</th>\n",
       "      <th>Round</th>\n",
       "      <th>...</th>\n",
       "      <th>Age</th>\n",
       "      <th>To</th>\n",
       "      <th>AP1</th>\n",
       "      <th>PB</th>\n",
       "      <th>St</th>\n",
       "      <th>CarAV</th>\n",
       "      <th>DrAV</th>\n",
       "      <th>Solo</th>\n",
       "      <th>Int</th>\n",
       "      <th>Sacks</th>\n",
       "    </tr>\n",
       "  </thead>\n",
       "  <tbody>\n",
       "    <tr>\n",
       "      <th>count</th>\n",
       "      <td>1633.000000</td>\n",
       "      <td>1633.000000</td>\n",
       "      <td>1633.000000</td>\n",
       "      <td>1409.000000</td>\n",
       "      <td>1225.000000</td>\n",
       "      <td>1237.000000</td>\n",
       "      <td>1235.000000</td>\n",
       "      <td>1038.000000</td>\n",
       "      <td>1030.000000</td>\n",
       "      <td>1122.000000</td>\n",
       "      <td>...</td>\n",
       "      <td>1060.000000</td>\n",
       "      <td>1050.000000</td>\n",
       "      <td>1122.000000</td>\n",
       "      <td>1122.000000</td>\n",
       "      <td>1122.000000</td>\n",
       "      <td>1050.000000</td>\n",
       "      <td>975.000000</td>\n",
       "      <td>1027.000000</td>\n",
       "      <td>540.000000</td>\n",
       "      <td>680.000000</td>\n",
       "    </tr>\n",
       "    <tr>\n",
       "      <th>mean</th>\n",
       "      <td>2005.524189</td>\n",
       "      <td>73.398616</td>\n",
       "      <td>239.093693</td>\n",
       "      <td>4.739084</td>\n",
       "      <td>20.955102</td>\n",
       "      <td>34.109135</td>\n",
       "      <td>115.369231</td>\n",
       "      <td>4.321985</td>\n",
       "      <td>7.235738</td>\n",
       "      <td>3.999109</td>\n",
       "      <td>...</td>\n",
       "      <td>22.580189</td>\n",
       "      <td>2010.596190</td>\n",
       "      <td>0.068627</td>\n",
       "      <td>0.286096</td>\n",
       "      <td>2.418004</td>\n",
       "      <td>19.168571</td>\n",
       "      <td>14.048205</td>\n",
       "      <td>170.105161</td>\n",
       "      <td>6.827778</td>\n",
       "      <td>12.063971</td>\n",
       "    </tr>\n",
       "    <tr>\n",
       "      <th>std</th>\n",
       "      <td>3.125960</td>\n",
       "      <td>2.217610</td>\n",
       "      <td>40.360148</td>\n",
       "      <td>0.237040</td>\n",
       "      <td>6.627861</td>\n",
       "      <td>3.854270</td>\n",
       "      <td>7.784872</td>\n",
       "      <td>0.236452</td>\n",
       "      <td>0.357441</td>\n",
       "      <td>1.954660</td>\n",
       "      <td>...</td>\n",
       "      <td>0.846134</td>\n",
       "      <td>4.460908</td>\n",
       "      <td>0.407025</td>\n",
       "      <td>1.020382</td>\n",
       "      <td>3.190776</td>\n",
       "      <td>20.684778</td>\n",
       "      <td>16.782542</td>\n",
       "      <td>180.672058</td>\n",
       "      <td>7.764027</td>\n",
       "      <td>18.939034</td>\n",
       "    </tr>\n",
       "    <tr>\n",
       "      <th>min</th>\n",
       "      <td>2000.000000</td>\n",
       "      <td>67.600000</td>\n",
       "      <td>168.000000</td>\n",
       "      <td>4.300000</td>\n",
       "      <td>2.000000</td>\n",
       "      <td>20.500000</td>\n",
       "      <td>86.000000</td>\n",
       "      <td>3.750000</td>\n",
       "      <td>6.340000</td>\n",
       "      <td>1.000000</td>\n",
       "      <td>...</td>\n",
       "      <td>20.000000</td>\n",
       "      <td>2000.000000</td>\n",
       "      <td>0.000000</td>\n",
       "      <td>0.000000</td>\n",
       "      <td>0.000000</td>\n",
       "      <td>0.000000</td>\n",
       "      <td>0.000000</td>\n",
       "      <td>1.000000</td>\n",
       "      <td>1.000000</td>\n",
       "      <td>0.500000</td>\n",
       "    </tr>\n",
       "    <tr>\n",
       "      <th>25%</th>\n",
       "      <td>2003.000000</td>\n",
       "      <td>71.880000</td>\n",
       "      <td>203.000000</td>\n",
       "      <td>4.560000</td>\n",
       "      <td>16.000000</td>\n",
       "      <td>31.500000</td>\n",
       "      <td>110.000000</td>\n",
       "      <td>4.150000</td>\n",
       "      <td>6.970000</td>\n",
       "      <td>2.000000</td>\n",
       "      <td>...</td>\n",
       "      <td>22.000000</td>\n",
       "      <td>2007.000000</td>\n",
       "      <td>0.000000</td>\n",
       "      <td>0.000000</td>\n",
       "      <td>0.000000</td>\n",
       "      <td>3.000000</td>\n",
       "      <td>2.000000</td>\n",
       "      <td>32.000000</td>\n",
       "      <td>1.000000</td>\n",
       "      <td>2.000000</td>\n",
       "    </tr>\n",
       "    <tr>\n",
       "      <th>50%</th>\n",
       "      <td>2006.000000</td>\n",
       "      <td>73.500000</td>\n",
       "      <td>236.000000</td>\n",
       "      <td>4.690000</td>\n",
       "      <td>21.000000</td>\n",
       "      <td>34.500000</td>\n",
       "      <td>116.000000</td>\n",
       "      <td>4.300000</td>\n",
       "      <td>7.190000</td>\n",
       "      <td>4.000000</td>\n",
       "      <td>...</td>\n",
       "      <td>23.000000</td>\n",
       "      <td>2011.000000</td>\n",
       "      <td>0.000000</td>\n",
       "      <td>0.000000</td>\n",
       "      <td>1.000000</td>\n",
       "      <td>11.000000</td>\n",
       "      <td>8.000000</td>\n",
       "      <td>108.000000</td>\n",
       "      <td>3.000000</td>\n",
       "      <td>5.000000</td>\n",
       "    </tr>\n",
       "    <tr>\n",
       "      <th>75%</th>\n",
       "      <td>2008.000000</td>\n",
       "      <td>75.000000</td>\n",
       "      <td>268.000000</td>\n",
       "      <td>4.900000</td>\n",
       "      <td>25.000000</td>\n",
       "      <td>37.000000</td>\n",
       "      <td>121.000000</td>\n",
       "      <td>4.460000</td>\n",
       "      <td>7.460000</td>\n",
       "      <td>6.000000</td>\n",
       "      <td>...</td>\n",
       "      <td>23.000000</td>\n",
       "      <td>2014.000000</td>\n",
       "      <td>0.000000</td>\n",
       "      <td>0.000000</td>\n",
       "      <td>4.000000</td>\n",
       "      <td>31.000000</td>\n",
       "      <td>19.000000</td>\n",
       "      <td>250.000000</td>\n",
       "      <td>10.000000</td>\n",
       "      <td>13.000000</td>\n",
       "    </tr>\n",
       "    <tr>\n",
       "      <th>max</th>\n",
       "      <td>2010.000000</td>\n",
       "      <td>79.750000</td>\n",
       "      <td>351.000000</td>\n",
       "      <td>5.710000</td>\n",
       "      <td>45.000000</td>\n",
       "      <td>46.000000</td>\n",
       "      <td>136.000000</td>\n",
       "      <td>5.060000</td>\n",
       "      <td>8.750000</td>\n",
       "      <td>7.000000</td>\n",
       "      <td>...</td>\n",
       "      <td>26.000000</td>\n",
       "      <td>2020.000000</td>\n",
       "      <td>5.000000</td>\n",
       "      <td>9.000000</td>\n",
       "      <td>15.000000</td>\n",
       "      <td>102.000000</td>\n",
       "      <td>98.000000</td>\n",
       "      <td>995.000000</td>\n",
       "      <td>51.000000</td>\n",
       "      <td>138.500000</td>\n",
       "    </tr>\n",
       "  </tbody>\n",
       "</table>\n",
       "<p>8 rows × 21 columns</p>\n",
       "</div>"
      ],
      "text/plain": [
       "              Year  Height (in)  Weight (lbs)      40 Yard  Bench Press  \\\n",
       "count  1633.000000  1633.000000   1633.000000  1409.000000  1225.000000   \n",
       "mean   2005.524189    73.398616    239.093693     4.739084    20.955102   \n",
       "std       3.125960     2.217610     40.360148     0.237040     6.627861   \n",
       "min    2000.000000    67.600000    168.000000     4.300000     2.000000   \n",
       "25%    2003.000000    71.880000    203.000000     4.560000    16.000000   \n",
       "50%    2006.000000    73.500000    236.000000     4.690000    21.000000   \n",
       "75%    2008.000000    75.000000    268.000000     4.900000    25.000000   \n",
       "max    2010.000000    79.750000    351.000000     5.710000    45.000000   \n",
       "\n",
       "       Vert Leap (in)  Broad Jump (in)      Shuttle        3Cone        Round  \\\n",
       "count     1237.000000      1235.000000  1038.000000  1030.000000  1122.000000   \n",
       "mean        34.109135       115.369231     4.321985     7.235738     3.999109   \n",
       "std          3.854270         7.784872     0.236452     0.357441     1.954660   \n",
       "min         20.500000        86.000000     3.750000     6.340000     1.000000   \n",
       "25%         31.500000       110.000000     4.150000     6.970000     2.000000   \n",
       "50%         34.500000       116.000000     4.300000     7.190000     4.000000   \n",
       "75%         37.000000       121.000000     4.460000     7.460000     6.000000   \n",
       "max         46.000000       136.000000     5.060000     8.750000     7.000000   \n",
       "\n",
       "       ...          Age           To          AP1           PB           St  \\\n",
       "count  ...  1060.000000  1050.000000  1122.000000  1122.000000  1122.000000   \n",
       "mean   ...    22.580189  2010.596190     0.068627     0.286096     2.418004   \n",
       "std    ...     0.846134     4.460908     0.407025     1.020382     3.190776   \n",
       "min    ...    20.000000  2000.000000     0.000000     0.000000     0.000000   \n",
       "25%    ...    22.000000  2007.000000     0.000000     0.000000     0.000000   \n",
       "50%    ...    23.000000  2011.000000     0.000000     0.000000     1.000000   \n",
       "75%    ...    23.000000  2014.000000     0.000000     0.000000     4.000000   \n",
       "max    ...    26.000000  2020.000000     5.000000     9.000000    15.000000   \n",
       "\n",
       "             CarAV        DrAV         Solo         Int       Sacks  \n",
       "count  1050.000000  975.000000  1027.000000  540.000000  680.000000  \n",
       "mean     19.168571   14.048205   170.105161    6.827778   12.063971  \n",
       "std      20.684778   16.782542   180.672058    7.764027   18.939034  \n",
       "min       0.000000    0.000000     1.000000    1.000000    0.500000  \n",
       "25%       3.000000    2.000000    32.000000    1.000000    2.000000  \n",
       "50%      11.000000    8.000000   108.000000    3.000000    5.000000  \n",
       "75%      31.000000   19.000000   250.000000   10.000000   13.000000  \n",
       "max     102.000000   98.000000   995.000000   51.000000  138.500000  \n",
       "\n",
       "[8 rows x 21 columns]"
      ]
     },
     "execution_count": 5,
     "metadata": {},
     "output_type": "execute_result"
    }
   ],
   "source": [
    "draft_df.describe()"
   ]
  },
  {
   "cell_type": "code",
   "execution_count": 6,
   "metadata": {},
   "outputs": [
    {
     "data": {
      "text/plain": [
       "(1633, 27)"
      ]
     },
     "execution_count": 6,
     "metadata": {},
     "output_type": "execute_result"
    }
   ],
   "source": [
    "draft_df.shape"
   ]
  },
  {
   "cell_type": "code",
   "execution_count": 7,
   "metadata": {},
   "outputs": [],
   "source": [
    "draft_df['Broad Jump (in)'].replace(np.nan, np.mean(draft_df['Broad Jump (in)']), inplace=True)\n",
    "draft_df['Bench Press'].replace(np.nan, np.mean(draft_df['Bench Press']), inplace=True)\n",
    "draft_df['40 Yard'].replace(np.nan, np.mean(draft_df['40 Yard']), inplace=True)\n",
    "draft_df['Vert Leap (in)'].replace(np.nan, np.mean(draft_df['Vert Leap (in)']), inplace=True)\n",
    "draft_df['Shuttle'].replace(np.nan, np.mean(draft_df['Shuttle']), inplace=True)\n",
    "draft_df['3Cone'].replace(np.nan, np.mean(draft_df['3Cone']), inplace=True)"
   ]
  },
  {
   "cell_type": "code",
   "execution_count": 8,
   "metadata": {},
   "outputs": [
    {
     "name": "stdout",
     "output_type": "stream",
     "text": [
      "<class 'pandas.core.frame.DataFrame'>\n",
      "RangeIndex: 1633 entries, 0 to 1632\n",
      "Data columns (total 27 columns):\n",
      " #   Column           Non-Null Count  Dtype  \n",
      "---  ------           --------------  -----  \n",
      " 0   Year             1633 non-null   float64\n",
      " 1   Name             1633 non-null   object \n",
      " 2   College          1632 non-null   object \n",
      " 3   POS              1633 non-null   object \n",
      " 4   Height (in)      1633 non-null   float64\n",
      " 5   Weight (lbs)     1633 non-null   float64\n",
      " 6   40 Yard          1633 non-null   float64\n",
      " 7   Bench Press      1633 non-null   float64\n",
      " 8   Vert Leap (in)   1633 non-null   float64\n",
      " 9   Broad Jump (in)  1633 non-null   float64\n",
      " 10  Shuttle          1633 non-null   float64\n",
      " 11  3Cone            1633 non-null   float64\n",
      " 12  Win-Loss Record  1460 non-null   object \n",
      " 13  Round            1122 non-null   float64\n",
      " 14  Pick             1122 non-null   float64\n",
      " 15  Team             1122 non-null   object \n",
      " 16  Age              1060 non-null   float64\n",
      " 17  To               1050 non-null   float64\n",
      " 18  AP1              1122 non-null   float64\n",
      " 19  PB               1122 non-null   float64\n",
      " 20  St               1122 non-null   float64\n",
      " 21  CarAV            1050 non-null   float64\n",
      " 22  DrAV             975 non-null    float64\n",
      " 23  Solo             1027 non-null   float64\n",
      " 24  Int              540 non-null    float64\n",
      " 25  Sacks            680 non-null    float64\n",
      " 26  Drafted          1633 non-null   object \n",
      "dtypes: float64(21), object(6)\n",
      "memory usage: 344.6+ KB\n"
     ]
    }
   ],
   "source": [
    "draft_df.info()"
   ]
  },
  {
   "cell_type": "code",
   "execution_count": 9,
   "metadata": {},
   "outputs": [
    {
     "data": {
      "text/plain": [
       "array([1, 0], dtype=int64)"
      ]
     },
     "execution_count": 9,
     "metadata": {},
     "output_type": "execute_result"
    }
   ],
   "source": [
    "draft_df['Drafted'] = draft_df.Drafted.replace(['D', 'U'], [1, 0])\n",
    "draft_df.Drafted.unique()"
   ]
  },
  {
   "cell_type": "markdown",
   "metadata": {},
   "source": [
    "# Logistic Regression"
   ]
  },
  {
   "cell_type": "code",
   "execution_count": 10,
   "metadata": {},
   "outputs": [],
   "source": [
    "from sklearn.linear_model import LogisticRegression\n",
    "from sklearn.model_selection import train_test_split\n",
    "from sklearn.model_selection import cross_val_score\n",
    "from sklearn.preprocessing import StandardScaler\n",
    "from sklearn.metrics import accuracy_score\n",
    "from sklearn.metrics import confusion_matrix"
   ]
  },
  {
   "cell_type": "code",
   "execution_count": 11,
   "metadata": {},
   "outputs": [],
   "source": [
    "y = draft_df.Drafted\n",
    "X = draft_df[['Height (in)', 'Weight (lbs)', '40 Yard', 'Bench Press', 'Vert Leap (in)', 'Broad Jump (in)', 'Shuttle', '3Cone']]\n"
   ]
  },
  {
   "cell_type": "code",
   "execution_count": 12,
   "metadata": {},
   "outputs": [],
   "source": [
    "X_train, X_test, y_train, y_test = train_test_split(X, y, test_size=0.25, random_state = 42)\n",
    "\n",
    "scaler = StandardScaler()\n",
    "X_train = scaler.fit_transform(X_train)\n",
    "X_test = scaler.transform(X_test)"
   ]
  },
  {
   "cell_type": "code",
   "execution_count": 13,
   "metadata": {},
   "outputs": [
    {
     "data": {
      "text/plain": [
       "{0.001: 0.6797066014669927,\n",
       " 0.01: 0.6894865525672371,\n",
       " 0.1: 0.7188264058679706,\n",
       " 1: 0.7017114914425427,\n",
       " 10: 0.6992665036674817,\n",
       " 100: 0.6992665036674817}"
      ]
     },
     "execution_count": 13,
     "metadata": {},
     "output_type": "execute_result"
    }
   ],
   "source": [
    "params = [0.001, 0.01, 0.1, 1, 10, 100]\n",
    "\n",
    "accuracies = {}\n",
    "\n",
    "for i in params:\n",
    "    lr = LogisticRegression(C= i, random_state= 42)\n",
    "    lr.fit(X_train, y_train)\n",
    "    \n",
    "    y_lr_pred = lr.predict(X_test)\n",
    "    \n",
    "    acc_score = accuracy_score(y_test, y_lr_pred)\n",
    "    accuracies[i] = acc_score\n",
    "accuracies"
   ]
  },
  {
   "cell_type": "code",
   "execution_count": 14,
   "metadata": {},
   "outputs": [
    {
     "name": "stdout",
     "output_type": "stream",
     "text": [
      "[[ 28 103]\n",
      " [ 20 258]]\n",
      "0.7188264058679706\n"
     ]
    }
   ],
   "source": [
    "lr2 = LogisticRegression(C=0.1)\n",
    "lr2.fit(X_train, y_train)\n",
    "lr_matrix = confusion_matrix(y_test, y_lr_pred)\n",
    "print(lr_matrix)\n",
    "lr_accuracy = lr2.score(X_test, y_test)\n",
    "print(lr_accuracy)"
   ]
  },
  {
   "cell_type": "markdown",
   "metadata": {},
   "source": [
    "# KNN"
   ]
  },
  {
   "cell_type": "code",
   "execution_count": 15,
   "metadata": {},
   "outputs": [],
   "source": [
    "from sklearn.neighbors import KNeighborsClassifier"
   ]
  },
  {
   "cell_type": "code",
   "execution_count": 16,
   "metadata": {},
   "outputs": [
    {
     "name": "stdout",
     "output_type": "stream",
     "text": [
      "[[ 12 119]\n",
      " [  3 275]]\n",
      "0.7017114914425427\n"
     ]
    }
   ],
   "source": [
    "knn = KNeighborsClassifier(n_neighbors=50)\n",
    "knn.fit(X_train, y_train)\n",
    "\n",
    "y_knn_predict = knn.predict(X_test)\n",
    "\n",
    "knn_matrix = confusion_matrix(y_test, y_knn_predict)\n",
    "print(knn_matrix)\n",
    "\n",
    "knn_accuracy = knn.score(X_test, y_test)\n",
    "print(knn_accuracy)"
   ]
  },
  {
   "cell_type": "markdown",
   "metadata": {},
   "source": [
    "# Random Forest"
   ]
  },
  {
   "cell_type": "code",
   "execution_count": 17,
   "metadata": {},
   "outputs": [],
   "source": [
    "from sklearn.ensemble import RandomForestClassifier"
   ]
  },
  {
   "cell_type": "code",
   "execution_count": 18,
   "metadata": {},
   "outputs": [
    {
     "data": {
      "text/plain": [
       "{10: 0.6454767726161369,\n",
       " 25: 0.6919315403422983,\n",
       " 50: 0.687041564792176,\n",
       " 75: 0.684596577017115,\n",
       " 100: 0.6943765281173594}"
      ]
     },
     "execution_count": 18,
     "metadata": {},
     "output_type": "execute_result"
    }
   ],
   "source": [
    "estimators = [10, 25, 50, 75, 100]\n",
    "\n",
    "rf_scores = {}\n",
    "\n",
    "for i in estimators:\n",
    "    rf = RandomForestClassifier(n_estimators=i, criterion='entropy', random_state=42 )\n",
    "    rf.fit(X_train, y_train)\n",
    "    \n",
    "    y_rf_predict = rf.predict(X_test)\n",
    "    \n",
    "    acc_rf_score = accuracy_score(y_test, y_rf_predict)\n",
    "    rf_scores[i] = acc_rf_score\n",
    "rf_scores"
   ]
  },
  {
   "cell_type": "code",
   "execution_count": 19,
   "metadata": {},
   "outputs": [
    {
     "name": "stdout",
     "output_type": "stream",
     "text": [
      "[[ 42  89]\n",
      " [ 36 242]]\n",
      "0.6943765281173594\n"
     ]
    }
   ],
   "source": [
    "rf2 = RandomForestClassifier(n_estimators=100, criterion='entropy', random_state=42)\n",
    "rf2.fit(X_train, y_train)\n",
    "rf_matrix = confusion_matrix(y_test, y_rf_predict)\n",
    "print(rf_matrix)\n",
    "\n",
    "rf_accuracy = rf2.score(X_test, y_test)\n",
    "print(rf_accuracy)"
   ]
  },
  {
   "cell_type": "markdown",
   "metadata": {},
   "source": [
    "# Gradient Boosting"
   ]
  },
  {
   "cell_type": "code",
   "execution_count": 20,
   "metadata": {},
   "outputs": [],
   "source": [
    "from sklearn.ensemble import GradientBoostingClassifier"
   ]
  },
  {
   "cell_type": "code",
   "execution_count": 21,
   "metadata": {},
   "outputs": [
    {
     "name": "stdout",
     "output_type": "stream",
     "text": [
      "[[ 38  93]\n",
      " [ 19 259]]\n",
      "0.726161369193154\n"
     ]
    }
   ],
   "source": [
    "gb = GradientBoostingClassifier()\n",
    "gb.fit(X_train, y_train)\n",
    "\n",
    "y_gb_predict = gb.predict(X_test)\n",
    "\n",
    "gb_matrix = confusion_matrix(y_test, y_gb_predict)\n",
    "print(gb_matrix)\n",
    "\n",
    "gb_accuracy = gb.score(X_test, y_test)\n",
    "print(gb_accuracy)"
   ]
  },
  {
   "cell_type": "markdown",
   "metadata": {},
   "source": [
    "# Parameter Tuning Random Forest"
   ]
  },
  {
   "cell_type": "code",
   "execution_count": 22,
   "metadata": {},
   "outputs": [],
   "source": [
    "from sklearn.model_selection import GridSearchCV"
   ]
  },
  {
   "cell_type": "code",
   "execution_count": 23,
   "metadata": {},
   "outputs": [
    {
     "name": "stdout",
     "output_type": "stream",
     "text": [
      "RandomForestClassifier(criterion='entropy', min_samples_split=5,\n",
      "                       n_estimators=250, random_state=42)\n",
      "0.7017965874874539\n"
     ]
    }
   ],
   "source": [
    "rf = RandomForestClassifier(random_state=42)\n",
    "\n",
    "param_grid_rf = {'criterion': ['gini', 'entropy'], 'n_estimators': [50, 100, 150, 200, 250], 'min_samples_split': [2, 5, 8, 10]}\n",
    "\n",
    "rf_gs = GridSearchCV(estimator=rf, param_grid=param_grid_rf, scoring='accuracy', cv=5)\n",
    "\n",
    "rf_gs = rf_gs.fit(X_train, y_train)\n",
    "\n",
    "print(rf_gs.best_estimator_)\n",
    "print(rf_gs.best_score_)"
   ]
  },
  {
   "cell_type": "code",
   "execution_count": 24,
   "metadata": {},
   "outputs": [
    {
     "name": "stdout",
     "output_type": "stream",
     "text": [
      "0.6919315403422983\n"
     ]
    }
   ],
   "source": [
    "rf_final = RandomForestClassifier(n_estimators=250, criterion='entropy', min_samples_split=5, random_state=42)\n",
    "rf_final.fit(X_train, y_train)\n",
    "y_rf_finalpredict = rf_final.predict(X_test)\n",
    "\n",
    "rf_finalacc = accuracy_score(y_test, y_rf_finalpredict)\n",
    "\n",
    "print(rf_finalacc)"
   ]
  },
  {
   "cell_type": "code",
   "execution_count": 25,
   "metadata": {},
   "outputs": [
    {
     "name": "stdout",
     "output_type": "stream",
     "text": [
      "[0.6754905  0.6701962  0.66466833 0.700327   0.6773183 ]\n",
      "[0.62558923 0.65247253 0.68956044 0.65315934 0.65874126]\n",
      "Mean cross val score for train: 0.6776000652518871\n",
      "Mean cross val score for test: 0.6559045584045584\n"
     ]
    }
   ],
   "source": [
    "cv_score_rf_train = cross_val_score(rf_final, X_train, y_train, cv=5, scoring='roc_auc')\n",
    "cv_score_rf_test = cross_val_score(rf_final, X_test, y_test, cv=5, scoring='roc_auc')\n",
    "print(cv_score_rf_train)\n",
    "print(cv_score_rf_test)\n",
    "\n",
    "cv_score_rf_train_mean = cv_score_rf_train.mean()\n",
    "cv_score_rf_test_mean = cv_score_rf_test.mean()\n",
    "\n",
    "print('Mean cross val score for train: ' + str(cv_score_rf_train_mean))\n",
    "print('Mean cross val score for test: ' + str(cv_score_rf_test_mean))"
   ]
  },
  {
   "cell_type": "code",
   "execution_count": 26,
   "metadata": {},
   "outputs": [
    {
     "data": {
      "image/png": "[encoded data removed]",
      "text/plain": [
       "<Figure size 720x360 with 1 Axes>"
      ]
     },
     "metadata": {
      "needs_background": "light"
     },
     "output_type": "display_data"
    }
   ],
   "source": [
    "features = X\n",
    "importances = list(rf_final.feature_importances_)\n",
    "sort_import = np.sort(importances)\n",
    "\n",
    "plt.figure(figsize=(10, 5))\n",
    "index = [0,1,2, 3, 4, 5, 6, 7]\n",
    "_ = plt.barh(index, sort_import, align='center')\n",
    "plt.xlabel('Imporatance')\n",
    "plt.yticks(index, features)\n",
    "plt.ylabel('Features')\n",
    "plt.title('Feature Importance Random Forest')\n",
    "plt.show()"
   ]
  },
  {
   "cell_type": "code",
   "execution_count": 27,
   "metadata": {},
   "outputs": [
    {
     "name": "stdout",
     "output_type": "stream",
     "text": [
      "ROC-AUC Score for Random Forest: 0.6936130484925036\n"
     ]
    }
   ],
   "source": [
    "from sklearn.metrics import auc, roc_curve, roc_auc_score\n",
    "y_rf_score = rf_final.predict_proba(X_test)\n",
    "y_rf_score = y_rf_score[:,1]\n",
    "\n",
    "auroc_rf = roc_auc_score(y_test, y_rf_score)\n",
    "print(\"ROC-AUC Score for Random Forest:\", auroc_rf)"
   ]
  },
  {
   "cell_type": "code",
   "execution_count": 36,
   "metadata": {},
   "outputs": [
    {
     "data": {
      "image/png": "[encoded data removed]",
      "text/plain": [
       "<Figure size 720x360 with 1 Axes>"
      ]
     },
     "metadata": {
      "needs_background": "light"
     },
     "output_type": "display_data"
    }
   ],
   "source": [
    "fpr_rf, tpr_rf, thresholds = roc_curve(y_test, y_rf_score)\n",
    "def plot_roc_curve(fpr, tpr, label=None):\n",
    "    plt.plot(fpr, tpr, linewidth=2, label=label)\n",
    "    plt.plot([0, 1], [0, 1], 'r', linewidth=4)\n",
    "    plt.axis([0, 1, 0, 1])\n",
    "    plt.xlabel('False Positive Rate (FPR)', fontsize=15)\n",
    "    plt.ylabel('True Positive Rate (TPR)', fontsize=15)\n",
    "    plt.title('ROC curve (RF)',fontsize=15)\n",
    "\n",
    "plt.figure(figsize=(10, 5))\n",
    "plot_roc_curve(fpr_rf, tpr_rf)\n",
    "plt.show()"
   ]
  },
  {
   "cell_type": "markdown",
   "metadata": {},
   "source": [
    "#  Parameter Tuning Gradient Boosting"
   ]
  },
  {
   "cell_type": "code",
   "execution_count": 29,
   "metadata": {},
   "outputs": [
    {
     "name": "stdout",
     "output_type": "stream",
     "text": [
      "GradientBoostingClassifier(learning_rate=0.05, loss='exponential',\n",
      "                           min_samples_split=5)\n",
      "0.7058815657410504\n"
     ]
    }
   ],
   "source": [
    "gb = GradientBoostingClassifier()\n",
    "param_grid_gb = {'loss': ['deviance', 'exponential'], 'learning_rate':[0.05, 0.1, 0.25, 0.5, 0.75, 1], 'n_estimators':[100, 150, 200, 250], \n",
    "                'min_samples_split': [2, 5, 8, 10], 'max_depth':[3, 6, 9]}\n",
    "\n",
    "gb_gs = GridSearchCV(gb, param_grid=param_grid_gb, cv=5, scoring='accuracy')\n",
    "gb_gs.fit(X_train, y_train)\n",
    "\n",
    "print(gb_gs.best_estimator_)\n",
    "print(gb_gs.best_score_)"
   ]
  },
  {
   "cell_type": "code",
   "execution_count": 30,
   "metadata": {},
   "outputs": [
    {
     "name": "stdout",
     "output_type": "stream",
     "text": [
      "0.7114914425427873\n"
     ]
    }
   ],
   "source": [
    "gb_Final = GradientBoostingClassifier(learning_rate=0.05, loss='exponential', min_samples_split=5)\n",
    "gb_Final.fit(X_train, y_train)\n",
    "\n",
    "y_gb_finalpredict = gb_Final.predict(X_test)\n",
    "\n",
    "gb_finalacc = accuracy_score(y_test, y_gb_finalpredict)\n",
    "\n",
    "print(gb_finalacc)"
   ]
  },
  {
   "cell_type": "code",
   "execution_count": 31,
   "metadata": {},
   "outputs": [
    {
     "name": "stdout",
     "output_type": "stream",
     "text": [
      "[0.67805979 0.68997197 0.67572407 0.65162722 0.62406015]\n",
      "[0.63265993 0.68990385 0.63907967 0.66895604 0.72552448]\n",
      "Mean cross val score for train: 0.6638886417226499\n",
      "Mean cross val score for test: 0.6712247937247937\n"
     ]
    }
   ],
   "source": [
    "cv_score_gb_train = cross_val_score(gb_Final, X_train, y_train, cv=5, scoring='roc_auc')\n",
    "cv_score_gb_test = cross_val_score(gb_Final, X_test, y_test, cv=5, scoring='roc_auc')\n",
    "print(cv_score_gb_train)\n",
    "print(cv_score_gb_test)\n",
    "\n",
    "cv_score_gb_train_mean = cv_score_gb_train.mean()\n",
    "cv_score_gb_test_mean = cv_score_gb_test.mean()\n",
    "\n",
    "print('Mean cross val score for train: ' + str(cv_score_gb_train_mean))\n",
    "print('Mean cross val score for test: ' + str(cv_score_gb_test_mean))"
   ]
  },
  {
   "cell_type": "code",
   "execution_count": 32,
   "metadata": {},
   "outputs": [
    {
     "data": {
      "image/png": "[encoded data removed]",
      "text/plain": [
       "<Figure size 720x360 with 1 Axes>"
      ]
     },
     "metadata": {
      "needs_background": "light"
     },
     "output_type": "display_data"
    }
   ],
   "source": [
    "features = X\n",
    "importances = list(gb_Final.feature_importances_)\n",
    "sort_import = np.sort(importances)\n",
    "\n",
    "plt.figure(figsize=(10, 5))\n",
    "index = [0,1,2, 3, 4, 5, 6, 7]\n",
    "_ = plt.barh(index, sort_import, align='center')\n",
    "plt.xlabel('Imporatance')\n",
    "plt.yticks(index, features)\n",
    "plt.ylabel('Features')\n",
    "plt.title('Feature Importance Gradient Boosting')\n",
    "plt.show()"
   ]
  },
  {
   "cell_type": "code",
   "execution_count": 33,
   "metadata": {},
   "outputs": [
    {
     "name": "stdout",
     "output_type": "stream",
     "text": [
      "ROC-AUC Score for Random Forest: 0.7190263056730188\n"
     ]
    }
   ],
   "source": [
    "y_gb_score = gb_Final.predict_proba(X_test)\n",
    "y_gb_score = y_gb_score[:,1]\n",
    "\n",
    "auroc_gb = roc_auc_score(y_test, y_gb_score)\n",
    "print(\"ROC-AUC Score for Random Forest:\", auroc_gb)"
   ]
  },
  {
   "cell_type": "code",
   "execution_count": 38,
   "metadata": {},
   "outputs": [
    {
     "data": {
      "image/png": "[encoded data removed]",
      "text/plain": [
       "<Figure size 720x360 with 1 Axes>"
      ]
     },
     "metadata": {
      "needs_background": "light"
     },
     "output_type": "display_data"
    }
   ],
   "source": [
    "fpr, tpr, thresholds = roc_curve(y_test, y_gb_score)\n",
    "def plot_roc_curve(fpr, tpr, label=None):\n",
    "    plt.plot(fpr, tpr, linewidth=2, label=label)\n",
    "    plt.plot([0, 1], [0, 1], 'r', linewidth=4)\n",
    "    plt.axis([0, 1, 0, 1])\n",
    "    plt.xlabel('False Positive Rate (FPR)', fontsize=15)\n",
    "    plt.ylabel('True Positive Rate (TPR)', fontsize=15)\n",
    "    plt.title('ROC curve (GB)',fontsize=15)\n",
    "\n",
    "plt.figure(figsize=(10, 5))\n",
    "plot_roc_curve(fpr, tpr)\n",
    "plt.show()"
   ]
  },
  {
   "cell_type": "code",
   "execution_count": null,
   "metadata": {},
   "outputs": [],
   "source": []
  },
  {
   "cell_type": "code",
   "execution_count": null,
   "metadata": {},
   "outputs": [],
   "source": []
  }
 ],
 "metadata": {
  "kernelspec": {
   "display_name": "Python 3",
   "language": "python",
   "name": "python3"
  },
  "language_info": {
   "codemirror_mode": {
    "name": "ipython",
    "version": 3
   },
   "file_extension": ".py",
   "mimetype": "text/x-python",
   "name": "python",
   "nbconvert_exporter": "python",
   "pygments_lexer": "ipython3",
   "version": "3.8.3"
  }
 },
 "nbformat": 4,
 "nbformat_minor": 4
}
